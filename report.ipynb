{
  "nbformat": 4,
  "nbformat_minor": 0,
  "metadata": {
    "colab": {
      "name": "Untitled0.ipynb",
      "provenance": [],
      "collapsed_sections": [],
      "include_colab_link": true
    },
    "kernelspec": {
      "name": "python3",
      "display_name": "Python 3"
    }
  },
  "cells": [
    {
      "cell_type": "markdown",
      "metadata": {
        "id": "view-in-github",
        "colab_type": "text"
      },
      "source": [
        "<a href=\"https://colab.research.google.com/github/apr0vleptos/MultiDiProject/blob/master/report.ipynb\" target=\"_parent\"><img src=\"https://colab.research.google.com/assets/colab-badge.svg\" alt=\"Open In Colab\"/></a>"
      ]
    },
    {
      "cell_type": "markdown",
      "metadata": {
        "id": "38Tt0HJEkTbx",
        "colab_type": "text"
      },
      "source": [
        "# LSH Algorith with Cosine Document similarity\n",
        "\n",
        "The part of the Locality-Sensitive-Hashing Algorithm consists of 3 parts,as we can see in the picture below:\n",
        "\n",
        "\n",
        "*   Turn each documment in sets of k-shinglings\n",
        "*   Through, the MinHashing Algorithm we turn the above sets into Signatures\n",
        "*   testing\n",
        "\n",
        "\n",
        "\n",
        "![lsh_diagramm](https://miro.medium.com/max/1904/1*27nQOTC79yfh5lzmL06Ieg.png)"
      ]
    }
  ]
}