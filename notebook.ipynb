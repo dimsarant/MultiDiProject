# LSH Algorith with Cosine Document similarity

The part of the Locality-Sensitive-Hashing Algorithm consists of 3 parts,as we can see in the picture below:


*   Turn each documment in sets of k-shinglings
*   Through, the MinHashing Algorithm we turn the above sets into Signatures
*   



![lsh_diagramm](https://miro.medium.com/max/1904/1*27nQOTC79yfh5lzmL06Ieg.png)
